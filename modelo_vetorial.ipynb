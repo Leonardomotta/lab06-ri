{
 "cells": [
  {
   "cell_type": "code",
   "execution_count": 160,
   "metadata": {
    "colab": {
     "base_uri": "https://localhost:8080/",
     "height": 51
    },
    "colab_type": "code",
    "id": "eVLJ-zUhxSqr",
    "outputId": "bc271ad8-a8b1-4aca-acb0-75e6a645f33c"
   },
   "outputs": [
    {
     "name": "stderr",
     "output_type": "stream",
     "text": [
      "[nltk_data] Downloading package stopwords to\n",
      "[nltk_data]     C:\\Users\\Leonardo\\AppData\\Roaming\\nltk_data...\n",
      "[nltk_data]   Package stopwords is already up-to-date!\n"
     ]
    }
   ],
   "source": [
    "import pandas as pd\n",
    "import numpy as np\n",
    "import nltk\n",
    "import re\n",
    "import collections\n",
    "import bisect\n",
    "from nltk.tokenize import RegexpTokenizer\n",
    "\n",
    "nltk.download('stopwords')\n",
    "result = pd.read_csv('https://raw.githubusercontent.com/Leonardomotta/lab06-ri/master/results.csv')\n"
   ]
  },
  {
   "cell_type": "markdown",
   "metadata": {
    "colab_type": "text",
    "id": "mHwushaYy_ZA"
   },
   "source": [
    "# 1. "
   ]
  },
  {
   "cell_type": "code",
   "execution_count": 161,
   "metadata": {
    "colab": {},
    "colab_type": "code",
    "id": "ZCiNa0fv0FPD"
   },
   "outputs": [],
   "source": [
    "tknz = RegexpTokenizer(r'([A-Za-zÁáÉéÍíÓóÚúÃãÕõÇçÂâÊê]{3,27})')\n",
    "stopwords = nltk.corpus.stopwords.words('portuguese') \n",
    "i = {}\n",
    "n = 0\n",
    "\n",
    "for text in result.text:\n",
    "  words = [word for word in tknz.tokenize(text.lower())\n",
    "           if not bool(re.search(r'\\d', word))\n",
    "           and word not in stopwords and len(word) >= 3]  \n",
    "  n += 1\n",
    "  for t in words:\n",
    "    if t not in i.keys():\n",
    "      i[t] = []\n",
    "    i[t].append(n)\n",
    "    \n",
    "for elem in i.items():\n",
    "  d = dict(collections.Counter(elem[1]))\n",
    "  i[elem[0]] = list(d.items())"
   ]
  },
  {
   "cell_type": "code",
   "execution_count": 162,
   "metadata": {
    "colab": {
     "base_uri": "https://localhost:8080/",
     "height": 359
    },
    "colab_type": "code",
    "id": "_1msrH6Cvzc2",
    "outputId": "3c069b70-4919-4e27-d351-1a3815257336"
   },
   "outputs": [
    {
     "data": {
      "text/html": [
       "<div>\n",
       "<style scoped>\n",
       "    .dataframe tbody tr th:only-of-type {\n",
       "        vertical-align: middle;\n",
       "    }\n",
       "\n",
       "    .dataframe tbody tr th {\n",
       "        vertical-align: top;\n",
       "    }\n",
       "\n",
       "    .dataframe thead th {\n",
       "        text-align: right;\n",
       "    }\n",
       "</style>\n",
       "<table border=\"1\" class=\"dataframe\">\n",
       "  <thead>\n",
       "    <tr style=\"text-align: right;\">\n",
       "      <th></th>\n",
       "      <th>Word</th>\n",
       "      <th>Documents and Frequencies</th>\n",
       "    </tr>\n",
       "  </thead>\n",
       "  <tbody>\n",
       "    <tr>\n",
       "      <th>0</th>\n",
       "      <td>juíza</td>\n",
       "      <td>[(1, 2), (2, 1)]</td>\n",
       "    </tr>\n",
       "    <tr>\n",
       "      <th>1</th>\n",
       "      <td>federal</td>\n",
       "      <td>[(1, 2), (2, 2), (3, 1), (6, 1), (7, 3), (15, ...</td>\n",
       "    </tr>\n",
       "    <tr>\n",
       "      <th>2</th>\n",
       "      <td>ivani</td>\n",
       "      <td>[(1, 1), (2, 1)]</td>\n",
       "    </tr>\n",
       "    <tr>\n",
       "      <th>3</th>\n",
       "      <td>silva</td>\n",
       "      <td>[(1, 3), (2, 1), (6, 1), (14, 2), (26, 1), (73...</td>\n",
       "    </tr>\n",
       "    <tr>\n",
       "      <th>4</th>\n",
       "      <td>luz</td>\n",
       "      <td>[(1, 3), (2, 1), (9, 1), (17, 1), (32, 2), (78...</td>\n",
       "    </tr>\n",
       "    <tr>\n",
       "      <th>5</th>\n",
       "      <td>brasília</td>\n",
       "      <td>[(1, 1), (8, 1), (33, 1), (35, 1), (44, 1), (4...</td>\n",
       "    </tr>\n",
       "    <tr>\n",
       "      <th>6</th>\n",
       "      <td>proibiu</td>\n",
       "      <td>[(1, 1), (2, 1), (119, 1), (162, 1)]</td>\n",
       "    </tr>\n",
       "    <tr>\n",
       "      <th>7</th>\n",
       "      <td>caráter</td>\n",
       "      <td>[(1, 1), (15, 1), (36, 1), (60, 1), (89, 1), (...</td>\n",
       "    </tr>\n",
       "    <tr>\n",
       "      <th>8</th>\n",
       "      <td>liminar</td>\n",
       "      <td>[(1, 1), (2, 3), (119, 1), (217, 1)]</td>\n",
       "    </tr>\n",
       "    <tr>\n",
       "      <th>9</th>\n",
       "      <td>nesta</td>\n",
       "      <td>[(1, 2), (3, 1), (4, 1), (8, 1), (21, 1), (22,...</td>\n",
       "    </tr>\n",
       "  </tbody>\n",
       "</table>\n",
       "</div>"
      ],
      "text/plain": [
       "       Word                          Documents and Frequencies\n",
       "0     juíza                                   [(1, 2), (2, 1)]\n",
       "1   federal  [(1, 2), (2, 2), (3, 1), (6, 1), (7, 3), (15, ...\n",
       "2     ivani                                   [(1, 1), (2, 1)]\n",
       "3     silva  [(1, 3), (2, 1), (6, 1), (14, 2), (26, 1), (73...\n",
       "4       luz  [(1, 3), (2, 1), (9, 1), (17, 1), (32, 2), (78...\n",
       "5  brasília  [(1, 1), (8, 1), (33, 1), (35, 1), (44, 1), (4...\n",
       "6   proibiu               [(1, 1), (2, 1), (119, 1), (162, 1)]\n",
       "7   caráter  [(1, 1), (15, 1), (36, 1), (60, 1), (89, 1), (...\n",
       "8   liminar               [(1, 1), (2, 3), (119, 1), (217, 1)]\n",
       "9     nesta  [(1, 2), (3, 1), (4, 1), (8, 1), (21, 1), (22,..."
      ]
     },
     "execution_count": 162,
     "metadata": {},
     "output_type": "execute_result"
    }
   ],
   "source": [
    "i_df = pd.DataFrame()\n",
    "i_df['Word'] = i.keys()\n",
    "i_df['Documents and Frequencies'] = i.values()\n",
    "\n",
    "i_df.head(10)"
   ]
  },
  {
   "cell_type": "markdown",
   "metadata": {
    "colab_type": "text",
    "id": "JmoY9DpLzD6p"
   },
   "source": [
    "#2"
   ]
  },
  {
   "cell_type": "code",
   "execution_count": 163,
   "metadata": {
    "colab": {},
    "colab_type": "code",
    "id": "-c75HorM7nWr"
   },
   "outputs": [],
   "source": [
    "M = result.text.count()\n",
    "for word in i:\n",
    "  k = len(i[word])\n",
    "  IDF = round(np.log((M+1)/k),2)\n",
    "  i[word].append(IDF)"
   ]
  },
  {
   "cell_type": "code",
   "execution_count": 164,
   "metadata": {
    "colab": {
     "base_uri": "https://localhost:8080/",
     "height": 359
    },
    "colab_type": "code",
    "id": "4ks-wKGMwYo5",
    "outputId": "57f7e092-3965-4db1-b7e0-498eba4c48b0"
   },
   "outputs": [
    {
     "data": {
      "text/html": [
       "<div>\n",
       "<style scoped>\n",
       "    .dataframe tbody tr th:only-of-type {\n",
       "        vertical-align: middle;\n",
       "    }\n",
       "\n",
       "    .dataframe tbody tr th {\n",
       "        vertical-align: top;\n",
       "    }\n",
       "\n",
       "    .dataframe thead th {\n",
       "        text-align: right;\n",
       "    }\n",
       "</style>\n",
       "<table border=\"1\" class=\"dataframe\">\n",
       "  <thead>\n",
       "    <tr style=\"text-align: right;\">\n",
       "      <th></th>\n",
       "      <th>Word</th>\n",
       "      <th>Documents and Frequencies</th>\n",
       "      <th>IDF</th>\n",
       "    </tr>\n",
       "  </thead>\n",
       "  <tbody>\n",
       "    <tr>\n",
       "      <th>0</th>\n",
       "      <td>juíza</td>\n",
       "      <td>[(1, 2), (2, 1), 4.83]</td>\n",
       "      <td>4.83</td>\n",
       "    </tr>\n",
       "    <tr>\n",
       "      <th>1</th>\n",
       "      <td>federal</td>\n",
       "      <td>[(1, 2), (2, 2), (3, 1), (6, 1), (7, 3), (15, ...</td>\n",
       "      <td>1.63</td>\n",
       "    </tr>\n",
       "    <tr>\n",
       "      <th>2</th>\n",
       "      <td>ivani</td>\n",
       "      <td>[(1, 1), (2, 1), 4.83]</td>\n",
       "      <td>4.83</td>\n",
       "    </tr>\n",
       "    <tr>\n",
       "      <th>3</th>\n",
       "      <td>silva</td>\n",
       "      <td>[(1, 3), (2, 1), (6, 1), (14, 2), (26, 1), (73...</td>\n",
       "      <td>3.04</td>\n",
       "    </tr>\n",
       "    <tr>\n",
       "      <th>4</th>\n",
       "      <td>luz</td>\n",
       "      <td>[(1, 3), (2, 1), (9, 1), (17, 1), (32, 2), (78...</td>\n",
       "      <td>2.53</td>\n",
       "    </tr>\n",
       "    <tr>\n",
       "      <th>5</th>\n",
       "      <td>brasília</td>\n",
       "      <td>[(1, 1), (8, 1), (33, 1), (35, 1), (44, 1), (4...</td>\n",
       "      <td>2.19</td>\n",
       "    </tr>\n",
       "    <tr>\n",
       "      <th>6</th>\n",
       "      <td>proibiu</td>\n",
       "      <td>[(1, 1), (2, 1), (119, 1), (162, 1), 4.14]</td>\n",
       "      <td>4.14</td>\n",
       "    </tr>\n",
       "    <tr>\n",
       "      <th>7</th>\n",
       "      <td>caráter</td>\n",
       "      <td>[(1, 1), (15, 1), (36, 1), (60, 1), (89, 1), (...</td>\n",
       "      <td>3.22</td>\n",
       "    </tr>\n",
       "    <tr>\n",
       "      <th>8</th>\n",
       "      <td>liminar</td>\n",
       "      <td>[(1, 1), (2, 3), (119, 1), (217, 1), 4.14]</td>\n",
       "      <td>4.14</td>\n",
       "    </tr>\n",
       "    <tr>\n",
       "      <th>9</th>\n",
       "      <td>nesta</td>\n",
       "      <td>[(1, 2), (3, 1), (4, 1), (8, 1), (21, 1), (22,...</td>\n",
       "      <td>0.91</td>\n",
       "    </tr>\n",
       "  </tbody>\n",
       "</table>\n",
       "</div>"
      ],
      "text/plain": [
       "       Word                          Documents and Frequencies   IDF\n",
       "0     juíza                             [(1, 2), (2, 1), 4.83]  4.83\n",
       "1   federal  [(1, 2), (2, 2), (3, 1), (6, 1), (7, 3), (15, ...  1.63\n",
       "2     ivani                             [(1, 1), (2, 1), 4.83]  4.83\n",
       "3     silva  [(1, 3), (2, 1), (6, 1), (14, 2), (26, 1), (73...  3.04\n",
       "4       luz  [(1, 3), (2, 1), (9, 1), (17, 1), (32, 2), (78...  2.53\n",
       "5  brasília  [(1, 1), (8, 1), (33, 1), (35, 1), (44, 1), (4...  2.19\n",
       "6   proibiu         [(1, 1), (2, 1), (119, 1), (162, 1), 4.14]  4.14\n",
       "7   caráter  [(1, 1), (15, 1), (36, 1), (60, 1), (89, 1), (...  3.22\n",
       "8   liminar         [(1, 1), (2, 3), (119, 1), (217, 1), 4.14]  4.14\n",
       "9     nesta  [(1, 2), (3, 1), (4, 1), (8, 1), (21, 1), (22,...  0.91"
      ]
     },
     "execution_count": 164,
     "metadata": {},
     "output_type": "execute_result"
    }
   ],
   "source": [
    "i_df['IDF'] = [index[-1] for index in i.values()]\n",
    "\n",
    "i_df.head(10)"
   ]
  },
  {
   "cell_type": "code",
   "execution_count": 165,
   "metadata": {
    "colab": {},
    "colab_type": "code",
    "id": "iQHcDGgFDjHF"
   },
   "outputs": [],
   "source": [
    "#3.1\n",
    "\n",
    "def binary_vsm(query, document):\n",
    "  s = 0\n",
    "  query_tokens = query.split()\n",
    "  doc_tokens = document.split()\n",
    "  \n",
    "  for token in query_tokens:\n",
    "    s += (token in doc_tokens)\n",
    "    \n",
    "  return s"
   ]
  },
  {
   "cell_type": "code",
   "execution_count": 166,
   "metadata": {
    "colab": {},
    "colab_type": "code",
    "id": "yPUnugdpFed_"
   },
   "outputs": [],
   "source": [
    "#3.2\n",
    "\n",
    "def tf_vsm(query, document):\n",
    "  s = 0\n",
    "  doc_tokens = document.split()\n",
    "  query_tokens = query.split()\n",
    "  \n",
    "  for word in query_tokens:\n",
    "    s += doc_tokens.count(word)\n",
    "  \n",
    "  return s"
   ]
  },
  {
   "cell_type": "code",
   "execution_count": 167,
   "metadata": {
    "colab": {},
    "colab_type": "code",
    "id": "8pv4YH8QI4FW"
   },
   "outputs": [],
   "source": [
    "#3.3\n",
    "def tfidf_vsm(query, document):\n",
    "  s = 0\n",
    "  doc_tokens = document.split()\n",
    "  query_tokens = query.split()\n",
    "  \n",
    "  for word in query_tokens:\n",
    "    cwd = doc_tokens.count(word)\n",
    "    if word in i:\n",
    "      s += cwd * i[word][-1]\n",
    "  \n",
    "  return round(s,2)"
   ]
  },
  {
   "cell_type": "code",
   "execution_count": 168,
   "metadata": {
    "colab": {},
    "colab_type": "code",
    "id": "f7i7Vi7AMb9n"
   },
   "outputs": [],
   "source": [
    "#3.4\n",
    "def bm25_vsm(query, document, k):\n",
    "  s = 0\n",
    "  doc_tokens = document.split()\n",
    "  query_tokens = query.split()\n",
    "  \n",
    "  words = [word for word in query_tokens if word in doc_tokens]\n",
    "    \n",
    "  for word in words:\n",
    "    cwd = doc_tokens.count(word)\n",
    "    dfw = 0\n",
    "    if word in i:\n",
    "      dfw = len(i[word][:-1])\n",
    "    s += (((k+1) * cwd) / (cwd + k)) * np.log10(((M+1) / dfw)) if dfw != 0 else 0\n",
    "  \n",
    "  return round(s,2)"
   ]
  },
  {
   "cell_type": "code",
   "execution_count": 169,
   "metadata": {
    "colab": {},
    "colab_type": "code",
    "id": "_gyPciv8TWB1"
   },
   "outputs": [],
   "source": [
    "queries = ['economia', 'bolsonaro', 'ministro da saude']"
   ]
  },
  {
   "cell_type": "code",
   "execution_count": 170,
   "metadata": {
    "colab": {},
    "colab_type": "code",
    "id": "8biPwliZRynU"
   },
   "outputs": [],
   "source": [
    "def create_top5_models(query):\n",
    "  n = 0\n",
    "  db = []\n",
    "  dtf = []\n",
    "  dtfidf = []\n",
    "  dbm25 = []\n",
    "  for doc in result.text:\n",
    "    doc = doc.lower()\n",
    "    n += 1\n",
    "    bisect.insort(db, (binary_vsm(query, doc), n))\n",
    "    bisect.insort(dtf, (tf_vsm(query,doc), n))\n",
    "    bisect.insort(dtfidf, (tfidf_vsm(query,doc), n))\n",
    "    bisect.insort(dbm25, (bm25_vsm(query,doc,20), n))\n",
    "  \n",
    "  db.reverse()\n",
    "  dtf.reverse()\n",
    "  dtfidf.reverse()\n",
    "  dbm25.reverse()\n",
    "  \n",
    "  return db[:5], dtf[:5], dtfidf[:5], dbm25[:5]"
   ]
  },
  {
   "cell_type": "code",
   "execution_count": 171,
   "metadata": {
    "colab": {},
    "colab_type": "code",
    "id": "ctCq5oudxbq_"
   },
   "outputs": [],
   "source": [
    "top5_binary = ['','','']\n",
    "top5_tf = ['','','']\n",
    "top5_tfidf = ['','','']\n",
    "top5_bm25 = ['','','']\n",
    "\n",
    "top5_binary[0], top5_tf[0], top5_tfidf[0], top5_bm25[0] = create_top5_models(queries[0])\n",
    "top5_binary[1], top5_tf[1], top5_tfidf[1], top5_bm25[1] = create_top5_models(queries[1])\n",
    "top5_binary[2], top5_tf[2], top5_tfidf[2], top5_bm25[2] = create_top5_models(queries[2])"
   ]
  },
  {
   "cell_type": "code",
   "execution_count": 172,
   "metadata": {
    "colab": {
     "base_uri": "https://localhost:8080/",
     "height": 193
    },
    "colab_type": "code",
    "id": "uvp_il8XzhPT",
    "outputId": "e35372a6-1ec9-4415-f13f-13abc530d690"
   },
   "outputs": [
    {
     "data": {
      "text/html": [
       "<div>\n",
       "<style scoped>\n",
       "    .dataframe tbody tr th:only-of-type {\n",
       "        vertical-align: middle;\n",
       "    }\n",
       "\n",
       "    .dataframe tbody tr th {\n",
       "        vertical-align: top;\n",
       "    }\n",
       "\n",
       "    .dataframe thead th {\n",
       "        text-align: right;\n",
       "    }\n",
       "</style>\n",
       "<table border=\"1\" class=\"dataframe\">\n",
       "  <thead>\n",
       "    <tr style=\"text-align: right;\">\n",
       "      <th></th>\n",
       "      <th>Query</th>\n",
       "      <th>Binary</th>\n",
       "      <th>TF</th>\n",
       "      <th>TF-IDF</th>\n",
       "      <th>BM25</th>\n",
       "    </tr>\n",
       "  </thead>\n",
       "  <tbody>\n",
       "    <tr>\n",
       "      <th>1</th>\n",
       "      <td>economia</td>\n",
       "      <td>[(1, 248), (1, 240), (1, 236), (1, 235), (1, 2...</td>\n",
       "      <td>[(7, 138), (7, 125), (6, 34), (5, 127), (4, 26)]</td>\n",
       "      <td>[(11.41, 138), (11.41, 125), (9.78, 34), (8.15...</td>\n",
       "      <td>[(3.85, 138), (3.85, 125), (3.43, 34), (2.97, ...</td>\n",
       "    </tr>\n",
       "    <tr>\n",
       "      <th>2</th>\n",
       "      <td>bolsonaro</td>\n",
       "      <td>[(1, 248), (1, 240), (1, 238), (1, 237), (1, 2...</td>\n",
       "      <td>[(32, 151), (30, 207), (30, 166), (19, 19), (1...</td>\n",
       "      <td>[(42.24, 151), (39.6, 207), (39.6, 166), (25.0...</td>\n",
       "      <td>[(7.39, 151), (7.21, 207), (7.21, 166), (5.85,...</td>\n",
       "    </tr>\n",
       "    <tr>\n",
       "      <th>3</th>\n",
       "      <td>ministro da saude</td>\n",
       "      <td>[(2, 247), (2, 246), (2, 240), (2, 236), (2, 2...</td>\n",
       "      <td>[(52, 151), (47, 115), (43, 166), (41, 138), (...</td>\n",
       "      <td>[(15.29, 222), (9.73, 240), (9.73, 209), (8.34...</td>\n",
       "      <td>[(4.51, 222), (3.3, 240), (3.3, 209), (2.93, 2...</td>\n",
       "    </tr>\n",
       "  </tbody>\n",
       "</table>\n",
       "</div>"
      ],
      "text/plain": [
       "               Query                                             Binary  \\\n",
       "1           economia  [(1, 248), (1, 240), (1, 236), (1, 235), (1, 2...   \n",
       "2          bolsonaro  [(1, 248), (1, 240), (1, 238), (1, 237), (1, 2...   \n",
       "3  ministro da saude  [(2, 247), (2, 246), (2, 240), (2, 236), (2, 2...   \n",
       "\n",
       "                                                  TF  \\\n",
       "1   [(7, 138), (7, 125), (6, 34), (5, 127), (4, 26)]   \n",
       "2  [(32, 151), (30, 207), (30, 166), (19, 19), (1...   \n",
       "3  [(52, 151), (47, 115), (43, 166), (41, 138), (...   \n",
       "\n",
       "                                              TF-IDF  \\\n",
       "1  [(11.41, 138), (11.41, 125), (9.78, 34), (8.15...   \n",
       "2  [(42.24, 151), (39.6, 207), (39.6, 166), (25.0...   \n",
       "3  [(15.29, 222), (9.73, 240), (9.73, 209), (8.34...   \n",
       "\n",
       "                                                BM25  \n",
       "1  [(3.85, 138), (3.85, 125), (3.43, 34), (2.97, ...  \n",
       "2  [(7.39, 151), (7.21, 207), (7.21, 166), (5.85,...  \n",
       "3  [(4.51, 222), (3.3, 240), (3.3, 209), (2.93, 2...  "
      ]
     },
     "execution_count": 172,
     "metadata": {},
     "output_type": "execute_result"
    }
   ],
   "source": [
    "dfq = pd.DataFrame()\n",
    "\n",
    "dfq['Query'] = queries\n",
    "dfq['Binary'] = top5_binary\n",
    "dfq['TF'] = top5_tf\n",
    "dfq['TF-IDF'] = top5_tfidf\n",
    "dfq['BM25'] = top5_bm25\n",
    "\n",
    "dfq.index+=1\n",
    "dfq"
   ]
  },
  {
   "cell_type": "markdown",
   "metadata": {
    "colab_type": "text",
    "id": "lboQt7Z0zn6Q"
   },
   "source": [
    "## 5. Compare os resultados encontrados e responda."
   ]
  },
  {
   "cell_type": "markdown",
   "metadata": {
    "colab_type": "text",
    "id": "eL1Qj_tizpkS"
   },
   "source": [
    "### 5.1. Quais modelos você acha que trouxe os melhores resultados? Por que? Inspecione os documentos retornados para melhor embasar sua resposta."
   ]
  },
  {
   "cell_type": "code",
   "execution_count": 173,
   "metadata": {
    "colab": {},
    "colab_type": "code",
    "id": "6Otvp79zy3If"
   },
   "outputs": [],
   "source": [
    "def get_top1_score(top5):\n",
    "  return [top[0][0] for top in top5]\n",
    "\n",
    "def get_top1_doc(top5):\n",
    "  return [top[0][1] for top in top5]\n",
    "\n",
    "def get_doc_title(docs):\n",
    "  return [result.title[doc] for doc in docs]"
   ]
  },
  {
   "cell_type": "code",
   "execution_count": 174,
   "metadata": {
    "colab": {},
    "colab_type": "code",
    "id": "FMVAICHwxjye"
   },
   "outputs": [],
   "source": [
    "score_top5_binary = get_top1_score(top5_binary)\n",
    "score_top5_tf = get_top1_score(top5_tf)\n",
    "score_top5_tfidf = get_top1_score(top5_tfidf)\n",
    "score_top5_bm25 = get_top1_score(top5_bm25)\n",
    "\n",
    "doc_top5_binary = get_top1_doc(top5_binary)\n",
    "doc_top5_tf = get_top1_doc(top5_tf)\n",
    "doc_top5_tfidf = get_top1_doc(top5_tfidf)\n",
    "doc_top5_bm25 = get_top1_doc(top5_bm25)\n",
    "\n",
    "titles_binary = get_doc_title(doc_top5_binary)\n",
    "titles_tf = get_doc_title(doc_top5_tf)\n",
    "titles_tfidf = get_doc_title(doc_top5_tfidf)\n",
    "titles_bm25 = get_doc_title(doc_top5_bm25)"
   ]
  },
  {
   "cell_type": "code",
   "execution_count": 175,
   "metadata": {
    "colab": {
     "base_uri": "https://localhost:8080/",
     "height": 142
    },
    "colab_type": "code",
    "id": "N7-z8vMvydAX",
    "outputId": "20a348dd-299d-4643-eb04-15e9cbe19701"
   },
   "outputs": [
    {
     "data": {
      "text/html": [
       "<div>\n",
       "<style scoped>\n",
       "    .dataframe tbody tr th:only-of-type {\n",
       "        vertical-align: middle;\n",
       "    }\n",
       "\n",
       "    .dataframe tbody tr th {\n",
       "        vertical-align: top;\n",
       "    }\n",
       "\n",
       "    .dataframe thead th {\n",
       "        text-align: right;\n",
       "    }\n",
       "</style>\n",
       "<table border=\"1\" class=\"dataframe\">\n",
       "  <thead>\n",
       "    <tr style=\"text-align: right;\">\n",
       "      <th></th>\n",
       "      <th>Query</th>\n",
       "      <th>Document</th>\n",
       "      <th>Document Title</th>\n",
       "      <th>Binary Score</th>\n",
       "    </tr>\n",
       "  </thead>\n",
       "  <tbody>\n",
       "    <tr>\n",
       "      <th>1</th>\n",
       "      <td>economia</td>\n",
       "      <td>248</td>\n",
       "      <td>As três espanholas do Estado Islâmico: “Só que...</td>\n",
       "      <td>1</td>\n",
       "    </tr>\n",
       "    <tr>\n",
       "      <th>2</th>\n",
       "      <td>bolsonaro</td>\n",
       "      <td>248</td>\n",
       "      <td>As três espanholas do Estado Islâmico: “Só que...</td>\n",
       "      <td>1</td>\n",
       "    </tr>\n",
       "    <tr>\n",
       "      <th>3</th>\n",
       "      <td>ministro da saude</td>\n",
       "      <td>247</td>\n",
       "      <td>Tatiana Roque: “O problema da esquerda não é a...</td>\n",
       "      <td>2</td>\n",
       "    </tr>\n",
       "  </tbody>\n",
       "</table>\n",
       "</div>"
      ],
      "text/plain": [
       "               Query  Document  \\\n",
       "1           economia       248   \n",
       "2          bolsonaro       248   \n",
       "3  ministro da saude       247   \n",
       "\n",
       "                                      Document Title  Binary Score  \n",
       "1  As três espanholas do Estado Islâmico: “Só que...             1  \n",
       "2  As três espanholas do Estado Islâmico: “Só que...             1  \n",
       "3  Tatiana Roque: “O problema da esquerda não é a...             2  "
      ]
     },
     "execution_count": 175,
     "metadata": {},
     "output_type": "execute_result"
    }
   ],
   "source": [
    "rb = pd.DataFrame()\n",
    "rb['Query'] = queries\n",
    "rb['Document'] = doc_top5_binary\n",
    "rb['Document Title'] = titles_binary\n",
    "rb['Binary Score'] = score_top5_binary\n",
    "\n",
    "rb.index += 1\n",
    "rb"
   ]
  },
  {
   "cell_type": "markdown",
   "metadata": {
    "colab_type": "text",
    "id": "WdFHmr7X6DdQ"
   },
   "source": [
    "#### TF"
   ]
  },
  {
   "cell_type": "code",
   "execution_count": 176,
   "metadata": {
    "colab": {
     "base_uri": "https://localhost:8080/",
     "height": 142
    },
    "colab_type": "code",
    "id": "ghrjh9Xz2LO3",
    "outputId": "522dd064-4255-4eaf-a5f3-adde5eed4779"
   },
   "outputs": [
    {
     "data": {
      "text/html": [
       "<div>\n",
       "<style scoped>\n",
       "    .dataframe tbody tr th:only-of-type {\n",
       "        vertical-align: middle;\n",
       "    }\n",
       "\n",
       "    .dataframe tbody tr th {\n",
       "        vertical-align: top;\n",
       "    }\n",
       "\n",
       "    .dataframe thead th {\n",
       "        text-align: right;\n",
       "    }\n",
       "</style>\n",
       "<table border=\"1\" class=\"dataframe\">\n",
       "  <thead>\n",
       "    <tr style=\"text-align: right;\">\n",
       "      <th></th>\n",
       "      <th>Query</th>\n",
       "      <th>Document</th>\n",
       "      <th>Document Title</th>\n",
       "      <th>TF Score</th>\n",
       "    </tr>\n",
       "  </thead>\n",
       "  <tbody>\n",
       "    <tr>\n",
       "      <th>1</th>\n",
       "      <td>economia</td>\n",
       "      <td>138</td>\n",
       "      <td>Estatal espanhola fica com aeroportos do Norde...</td>\n",
       "      <td>7</td>\n",
       "    </tr>\n",
       "    <tr>\n",
       "      <th>2</th>\n",
       "      <td>bolsonaro</td>\n",
       "      <td>151</td>\n",
       "      <td>Socialismo ‘millennial’ nos EUA</td>\n",
       "      <td>32</td>\n",
       "    </tr>\n",
       "    <tr>\n",
       "      <th>3</th>\n",
       "      <td>ministro da saude</td>\n",
       "      <td>151</td>\n",
       "      <td>Socialismo ‘millennial’ nos EUA</td>\n",
       "      <td>52</td>\n",
       "    </tr>\n",
       "  </tbody>\n",
       "</table>\n",
       "</div>"
      ],
      "text/plain": [
       "               Query  Document  \\\n",
       "1           economia       138   \n",
       "2          bolsonaro       151   \n",
       "3  ministro da saude       151   \n",
       "\n",
       "                                      Document Title  TF Score  \n",
       "1  Estatal espanhola fica com aeroportos do Norde...         7  \n",
       "2                    Socialismo ‘millennial’ nos EUA        32  \n",
       "3                    Socialismo ‘millennial’ nos EUA        52  "
      ]
     },
     "execution_count": 176,
     "metadata": {},
     "output_type": "execute_result"
    }
   ],
   "source": [
    "tf_res = pd.DataFrame()\n",
    "tf_res['Query'] = queries\n",
    "tf_res['Document'] = doc_top5_tf\n",
    "tf_res['Document Title'] = titles_tf\n",
    "tf_res['TF Score'] = score_top5_tf\n",
    "\n",
    "tf_res.index += 1\n",
    "tf_res"
   ]
  },
  {
   "cell_type": "markdown",
   "metadata": {
    "colab_type": "text",
    "id": "grUZsZAN6FdT"
   },
   "source": [
    "#### TF-IDF"
   ]
  },
  {
   "cell_type": "code",
   "execution_count": 177,
   "metadata": {
    "colab": {
     "base_uri": "https://localhost:8080/",
     "height": 142
    },
    "colab_type": "code",
    "id": "DoPKlPck2Lw0",
    "outputId": "54f86fa2-87c6-4ff2-b0cd-63cdb6095f40"
   },
   "outputs": [
    {
     "data": {
      "text/html": [
       "<div>\n",
       "<style scoped>\n",
       "    .dataframe tbody tr th:only-of-type {\n",
       "        vertical-align: middle;\n",
       "    }\n",
       "\n",
       "    .dataframe tbody tr th {\n",
       "        vertical-align: top;\n",
       "    }\n",
       "\n",
       "    .dataframe thead th {\n",
       "        text-align: right;\n",
       "    }\n",
       "</style>\n",
       "<table border=\"1\" class=\"dataframe\">\n",
       "  <thead>\n",
       "    <tr style=\"text-align: right;\">\n",
       "      <th></th>\n",
       "      <th>Query</th>\n",
       "      <th>Document</th>\n",
       "      <th>Document Title</th>\n",
       "      <th>TFIDF Score</th>\n",
       "    </tr>\n",
       "  </thead>\n",
       "  <tbody>\n",
       "    <tr>\n",
       "      <th>1</th>\n",
       "      <td>economia</td>\n",
       "      <td>138</td>\n",
       "      <td>Estatal espanhola fica com aeroportos do Norde...</td>\n",
       "      <td>11.41</td>\n",
       "    </tr>\n",
       "    <tr>\n",
       "      <th>2</th>\n",
       "      <td>bolsonaro</td>\n",
       "      <td>151</td>\n",
       "      <td>Socialismo ‘millennial’ nos EUA</td>\n",
       "      <td>42.24</td>\n",
       "    </tr>\n",
       "    <tr>\n",
       "      <th>3</th>\n",
       "      <td>ministro da saude</td>\n",
       "      <td>222</td>\n",
       "      <td>“Não me arrependo de nada”</td>\n",
       "      <td>15.29</td>\n",
       "    </tr>\n",
       "  </tbody>\n",
       "</table>\n",
       "</div>"
      ],
      "text/plain": [
       "               Query  Document  \\\n",
       "1           economia       138   \n",
       "2          bolsonaro       151   \n",
       "3  ministro da saude       222   \n",
       "\n",
       "                                      Document Title  TFIDF Score  \n",
       "1  Estatal espanhola fica com aeroportos do Norde...        11.41  \n",
       "2                    Socialismo ‘millennial’ nos EUA        42.24  \n",
       "3                         “Não me arrependo de nada”        15.29  "
      ]
     },
     "execution_count": 177,
     "metadata": {},
     "output_type": "execute_result"
    }
   ],
   "source": [
    "tfidf_res = pd.DataFrame()\n",
    "tfidf_res['Query'] = queries\n",
    "tfidf_res['Document'] = doc_top5_tfidf\n",
    "tfidf_res['Document Title'] = titles_tfidf\n",
    "tfidf_res['TFIDF Score'] = score_top5_tfidf\n",
    "\n",
    "tfidf_res.index += 1\n",
    "tfidf_res"
   ]
  },
  {
   "cell_type": "markdown",
   "metadata": {
    "colab_type": "text",
    "id": "VYWXQ2HV6HTi"
   },
   "source": [
    "#### BM-25"
   ]
  },
  {
   "cell_type": "code",
   "execution_count": 178,
   "metadata": {
    "colab": {
     "base_uri": "https://localhost:8080/",
     "height": 142
    },
    "colab_type": "code",
    "id": "DamyDlh12MPE",
    "outputId": "17bf1e4d-75f1-4587-f28a-82b56ef72a8b"
   },
   "outputs": [
    {
     "data": {
      "text/html": [
       "<div>\n",
       "<style scoped>\n",
       "    .dataframe tbody tr th:only-of-type {\n",
       "        vertical-align: middle;\n",
       "    }\n",
       "\n",
       "    .dataframe tbody tr th {\n",
       "        vertical-align: top;\n",
       "    }\n",
       "\n",
       "    .dataframe thead th {\n",
       "        text-align: right;\n",
       "    }\n",
       "</style>\n",
       "<table border=\"1\" class=\"dataframe\">\n",
       "  <thead>\n",
       "    <tr style=\"text-align: right;\">\n",
       "      <th></th>\n",
       "      <th>Query</th>\n",
       "      <th>Document</th>\n",
       "      <th>Document Title</th>\n",
       "      <th>BM25 Score</th>\n",
       "    </tr>\n",
       "  </thead>\n",
       "  <tbody>\n",
       "    <tr>\n",
       "      <th>1</th>\n",
       "      <td>economia</td>\n",
       "      <td>138</td>\n",
       "      <td>Estatal espanhola fica com aeroportos do Norde...</td>\n",
       "      <td>3.85</td>\n",
       "    </tr>\n",
       "    <tr>\n",
       "      <th>2</th>\n",
       "      <td>bolsonaro</td>\n",
       "      <td>151</td>\n",
       "      <td>Socialismo ‘millennial’ nos EUA</td>\n",
       "      <td>7.39</td>\n",
       "    </tr>\n",
       "    <tr>\n",
       "      <th>3</th>\n",
       "      <td>ministro da saude</td>\n",
       "      <td>222</td>\n",
       "      <td>“Não me arrependo de nada”</td>\n",
       "      <td>4.51</td>\n",
       "    </tr>\n",
       "  </tbody>\n",
       "</table>\n",
       "</div>"
      ],
      "text/plain": [
       "               Query  Document  \\\n",
       "1           economia       138   \n",
       "2          bolsonaro       151   \n",
       "3  ministro da saude       222   \n",
       "\n",
       "                                      Document Title  BM25 Score  \n",
       "1  Estatal espanhola fica com aeroportos do Norde...        3.85  \n",
       "2                    Socialismo ‘millennial’ nos EUA        7.39  \n",
       "3                         “Não me arrependo de nada”        4.51  "
      ]
     },
     "execution_count": 178,
     "metadata": {},
     "output_type": "execute_result"
    }
   ],
   "source": [
    "bm25_res = pd.DataFrame()\n",
    "bm25_res['Query'] = queries\n",
    "bm25_res['Document'] = doc_top5_bm25\n",
    "bm25_res['Document Title'] = titles_bm25\n",
    "bm25_res['BM25 Score'] = score_top5_bm25\n",
    "\n",
    "bm25_res.index += 1\n",
    "bm25_res"
   ]
  },
  {
   "cell_type": "markdown",
   "metadata": {
    "colab_type": "text",
    "id": "gO_AQtbr6fna"
   },
   "source": [
    "fazendo um comparativo o bm25 apresenta os melhores resultados\n",
    "Para a consulta economia:\n",
    "- 'Estatal espanhola fica com aeroportos do nordeste'\n",
    "\n",
    "Para a consulta bolsonaro:\n",
    "-  'Socialismo 'milenial' no EUA'\n",
    "\n",
    "Para Ministro da saude, temos:\n",
    "- 'Não me arrependo de nada'\n",
    "\n"
   ]
  },
  {
   "cell_type": "code",
   "execution_count": 179,
   "metadata": {
    "colab": {},
    "colab_type": "code",
    "id": "goRif3io9hYg"
   },
   "outputs": [],
   "source": [
    "#5.2\n",
    "\n",
    "def inter_size(a,b):\n",
    "  return len([elem for elem in a if elem in b])\n",
    "\n",
    "def jaccard_index(a,b):\n",
    "  n_a = len(a)\n",
    "  n_b = len(b)\n",
    "  n_ab = inter_size(a,b)\n",
    "  exp = n_a + n_b - n_ab\n",
    "  jaccard = n_ab / exp if exp != 0 else 0\n",
    "  return jaccard"
   ]
  },
  {
   "cell_type": "code",
   "execution_count": 180,
   "metadata": {
    "colab": {
     "base_uri": "https://localhost:8080/",
     "height": 204
    },
    "colab_type": "code",
    "id": "7_KZEYzp-OmD",
    "outputId": "09524ba1-e714-45db-814d-bef40bd643d4"
   },
   "outputs": [
    {
     "data": {
      "text/html": [
       "<div>\n",
       "<style scoped>\n",
       "    .dataframe tbody tr th:only-of-type {\n",
       "        vertical-align: middle;\n",
       "    }\n",
       "\n",
       "    .dataframe tbody tr th {\n",
       "        vertical-align: top;\n",
       "    }\n",
       "\n",
       "    .dataframe thead th {\n",
       "        text-align: right;\n",
       "    }\n",
       "</style>\n",
       "<table border=\"1\" class=\"dataframe\">\n",
       "  <thead>\n",
       "    <tr style=\"text-align: right;\">\n",
       "      <th></th>\n",
       "      <th>0</th>\n",
       "      <th>1</th>\n",
       "      <th>2</th>\n",
       "      <th>3</th>\n",
       "      <th>4</th>\n",
       "    </tr>\n",
       "  </thead>\n",
       "  <tbody>\n",
       "    <tr>\n",
       "      <th>0</th>\n",
       "      <td>Measure</td>\n",
       "      <td>Binary</td>\n",
       "      <td>TF</td>\n",
       "      <td>TF-IDF</td>\n",
       "      <td>BM25</td>\n",
       "    </tr>\n",
       "    <tr>\n",
       "      <th>1</th>\n",
       "      <td>Binary</td>\n",
       "      <td>1</td>\n",
       "      <td>0</td>\n",
       "      <td>0</td>\n",
       "      <td>0</td>\n",
       "    </tr>\n",
       "    <tr>\n",
       "      <th>2</th>\n",
       "      <td>TF</td>\n",
       "      <td>0</td>\n",
       "      <td>1</td>\n",
       "      <td>0.5</td>\n",
       "      <td>1</td>\n",
       "    </tr>\n",
       "    <tr>\n",
       "      <th>3</th>\n",
       "      <td>TF-IDF</td>\n",
       "      <td>0</td>\n",
       "      <td>1</td>\n",
       "      <td>1</td>\n",
       "      <td>1</td>\n",
       "    </tr>\n",
       "    <tr>\n",
       "      <th>4</th>\n",
       "      <td>BM25</td>\n",
       "      <td>0</td>\n",
       "      <td>1</td>\n",
       "      <td>0.5</td>\n",
       "      <td>1</td>\n",
       "    </tr>\n",
       "  </tbody>\n",
       "</table>\n",
       "</div>"
      ],
      "text/plain": [
       "         0       1   2       3     4\n",
       "0  Measure  Binary  TF  TF-IDF  BM25\n",
       "1   Binary       1   0       0     0\n",
       "2       TF       0   1     0.5     1\n",
       "3   TF-IDF       0   1       1     1\n",
       "4     BM25       0   1     0.5     1"
      ]
     },
     "execution_count": 180,
     "metadata": {},
     "output_type": "execute_result"
    }
   ],
   "source": [
    "ad = []\n",
    "ad.append(doc_top5_binary)\n",
    "ad.append(doc_top5_bm25)\n",
    "ad.append(doc_top5_tf)\n",
    "ad.append(doc_top5_tfidf)\n",
    "\n",
    "matriz = [['Measure', 'Binary', 'TF', 'TF-IDF', 'BM25']]\n",
    "titles = matriz\n",
    "for i in range(len(ad)):\n",
    "  line = []\n",
    "  for j in range(len(ad)):\n",
    "    jaccard = jaccard_index(ad[i], ad[j])\n",
    "    line.append(round(jaccard,2))\n",
    "  matriz.append(line)\n",
    "for i in range(1, len(matriz)):\n",
    "  matriz[i].insert(0, matriz[0][i])\n",
    "  \n",
    "pd.DataFrame(matriz)"
   ]
  },
  {
   "cell_type": "markdown",
   "metadata": {
    "colab_type": "text",
    "id": "OCqZGrnnASki"
   },
   "source": [
    "Usando Jaccard nota se uma diferença gritante entre o modelo binario e os demais , o bm25 e o tf por sua vez , estão em pé de igualdade ,enquanto que o tf-idf é o mais distindo dos demais isso ficou bem claro para as consultas economia e bolsonaro os quais eu considero que o modelo mostrou o melhor resultado"
   ]
  }
 ],
 "metadata": {
  "colab": {
   "collapsed_sections": [],
   "include_colab_link": true,
   "name": "modelo_vetorial",
   "provenance": [],
   "version": "0.3.2"
  },
  "kernelspec": {
   "display_name": "Python 3",
   "language": "python",
   "name": "python3"
  },
  "language_info": {
   "codemirror_mode": {
    "name": "ipython",
    "version": 3
   },
   "file_extension": ".py",
   "mimetype": "text/x-python",
   "name": "python",
   "nbconvert_exporter": "python",
   "pygments_lexer": "ipython3",
   "version": "3.7.1"
  }
 },
 "nbformat": 4,
 "nbformat_minor": 1
}
